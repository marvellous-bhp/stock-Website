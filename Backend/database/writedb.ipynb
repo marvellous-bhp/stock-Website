{
 "cells": [
  {
   "cell_type": "code",
   "execution_count": 1,
   "metadata": {},
   "outputs": [],
   "source": [
    "import mysql.connector\n",
    "import json\n",
    "import uuid\n",
    "import pandas as pd"
   ]
  },
  {
   "cell_type": "code",
   "execution_count": 2,
   "metadata": {},
   "outputs": [],
   "source": [
    "# pip install mysql-connector-python\n"
   ]
  },
  {
   "cell_type": "code",
   "execution_count": 3,
   "metadata": {},
   "outputs": [],
   "source": [
    "# Connection parameters\n",
    "host = 'localhost'\n",
    "user = 'root'\n",
    "password = '1234'\n",
    "database = 'stock_prediction'"
   ]
  },
  {
   "cell_type": "code",
   "execution_count": 4,
   "metadata": {},
   "outputs": [],
   "source": [
    "data=\"../../crawlData/data_2212.json\"\n",
    "with open(data,'r') as file:\n",
    "  data=json.load(file)"
   ]
  },
  {
   "cell_type": "code",
   "execution_count": 5,
   "metadata": {},
   "outputs": [],
   "source": [
    "symbols=list(data.keys())\n",
    "name_symbols=[\"Ngân hàng TMCP Á Châu\",\"Ngân hàng TMCP Đầu tư và Phát triển Việt Nam\",\"Ngân hàng TMCP Công Thương Việt Nam\",\"Ngân hàng TMCP Xuất nhập khẩu Việt Nam\",\"Ngân hàng TMCP Phát triển TP.HCM\",\"Ngân hàng TMCP Quân Đội\",\"Ngân hàng TMCP Hàng hải Việt Nam\",\"Ngân hàng TMCP Phương Đông\",\"Ngân hàng TMCP Sài Gòn – Hà Nội\",\"Ngân hàng TMCP Đông Nam Á\",\"Ngân hàng TMCP Sài Gòn Thương Tín\",\"Ngân hàng TMCP Kỹ thương Việt Nam\",\"Ngân hàng TMCP Tiên Phong\",\"Ngân hàng TMCP Ngoại Thương Việt Nam\",\"Ngân hàng TMCP Quốc tế Việt Nam\",\"Ngân hàng TMCP Việt Nam Thịnh Vượng\",\"Ngân hàng TMCP Quốc Dân\",\"Ngân hàng TMCP Bắc Á\"]"
   ]
  },
  {
   "cell_type": "code",
   "execution_count": 6,
   "metadata": {},
   "outputs": [],
   "source": [
    "stocks=[]\n",
    "for symbol in symbols:\n",
    "  stocks.append(list(data[symbol].values()))\n",
    "previous_close_prices=[]\n",
    "for stock in stocks:\n",
    "      previous_close_prices.append(eval(stock[0])[\"close\"])\n"
   ]
  },
  {
   "cell_type": "code",
   "execution_count": 7,
   "metadata": {},
   "outputs": [],
   "source": [
    "stock_ids=[]\n",
    "for i in range (len(stocks)):\n",
    "    stock_ids.append(str(uuid.uuid4()))"
   ]
  },
  {
   "cell_type": "code",
   "execution_count": 8,
   "metadata": {},
   "outputs": [],
   "source": [
    "#create data insert to stocklist\n",
    "data_stock_list_inserts=[]\n",
    "for i in range(len(stocks)):\n",
    "    data_stock_list_inserts.append((stock_ids[i],symbols[i],name_symbols[i],float(previous_close_prices[i].replace(',', ''))))"
   ]
  },
  {
   "cell_type": "code",
   "execution_count": 9,
   "metadata": {},
   "outputs": [],
   "source": [
    "#convert dict to dataframe\n",
    "from ast import literal_eval  \n",
    "def convert_str_to_float(str_num):\n",
    "    return float(str_num.replace(',', ''))\n",
    "def convert_dict_to_df(data_dict):\n",
    "    data = {key: literal_eval(value) for key, value in data_dict.items()}\n",
    "    df = pd.DataFrame.from_dict(data, orient='index')\n",
    "    df.index = pd.to_datetime(df.index, format='%d/%m/%Y')\n",
    "    df = df.applymap(convert_str_to_float)\n",
    "    df=df.sort_index(ascending=True)\n",
    "    return df"
   ]
  },
  {
   "cell_type": "code",
   "execution_count": 10,
   "metadata": {},
   "outputs": [],
   "source": [
    "data_historys=[]\n",
    "for symbol in symbols:\n",
    "  data_historys.append(data[symbol])\n",
    "data_history_dfs=[]\n",
    "for data_history in data_historys:\n",
    "    data_history_dfs.append(convert_dict_to_df(data_history))"
   ]
  },
  {
   "cell_type": "code",
   "execution_count": 11,
   "metadata": {},
   "outputs": [],
   "source": [
    "# Create a list to store the data inserts\n",
    "data_history_inserts = []\n",
    "\n",
    "for stockid, dataframe in zip(stock_ids, data_history_dfs):\n",
    "    for index, row in dataframe.iterrows():\n",
    "        \n",
    "        date = row.name.date()  \n",
    "        open_price = row['open']  \n",
    "        high_price = row['high'] \n",
    "        low_price = row['low']  \n",
    "        close_price = row['close']  \n",
    "        volume = row['volume']  \n",
    "        record = (stockid, str(date), open_price, high_price, low_price, close_price, volume)\n",
    "       \n",
    "        data_history_inserts.append(record)"
   ]
  },
  {
   "cell_type": "code",
   "execution_count": 12,
   "metadata": {},
   "outputs": [],
   "source": [
    "# #insert to db\n",
    "# try:\n",
    "#     conn = mysql.connector.connect(\n",
    "#         host=host,\n",
    "#         user=user,\n",
    "#         password=password,\n",
    "#         database=database\n",
    "#     )\n",
    "\n",
    "#     if conn.is_connected():\n",
    "#         print(\"Connected to MySQL\")\n",
    "        \n",
    "#         cursor = conn.cursor()\n",
    "#         # insert_stocklist_query = \"INSERT INTO stocklist (stockid, symbol, company_name,previous_close_price) VALUES (%s, %s, %s,%s)\"\n",
    "#         # cursor.executemany(insert_stocklist_query, data_stock_list_inserts)\n",
    "\n",
    "#         insert_stock_hist_query = \"INSERT INTO stockhistory (stockid, date, open, high, low, close, volume) VALUES (%s, %s, %s, %s, %s, %s, %s)\"\n",
    "#         cursor.executemany(insert_stock_hist_query, data_history_inserts)\n",
    "#         conn.commit()\n",
    "\n",
    "#         cursor.close()\n",
    "#         conn.close()\n",
    "\n",
    "# except mysql.connector.Error as e:\n",
    "#     print(f\"Error: {e}\")\n",
    "# finally:\n",
    "#     if conn.is_connected():\n",
    "#         cursor.close()\n",
    "#         conn.close()\n",
    "#         print(\"MySQL connection closed\")"
   ]
  },
  {
   "cell_type": "code",
   "execution_count": 13,
   "metadata": {},
   "outputs": [],
   "source": [
    "insert_stock_hist_query = \"\"\"\n",
    "INSERT INTO stockhistory (stockid, date, open, high, low, close, volume) \n",
    "VALUES (%s, %s, %s, %s, %s, %s, %s)\n",
    "\"\"\""
   ]
  },
  {
   "cell_type": "code",
   "execution_count": 14,
   "metadata": {},
   "outputs": [],
   "source": [
    "connection = mysql.connector.connect(\n",
    "        host=host,\n",
    "        user=user,\n",
    "        password=password,\n",
    "        database=database\n",
    ")\n",
    "cursor = connection.cursor()"
   ]
  },
  {
   "cell_type": "code",
   "execution_count": 15,
   "metadata": {},
   "outputs": [
    {
     "name": "stdout",
     "output_type": "stream",
     "text": [
      "Dữ liệu đã được chèn thành công cho mã ACB vào bảng `stockhistory`.\n",
      "Dữ liệu đã được chèn thành công cho mã BID vào bảng `stockhistory`.\n",
      "Dữ liệu đã được chèn thành công cho mã CTG vào bảng `stockhistory`.\n",
      "Dữ liệu đã được chèn thành công cho mã EIB vào bảng `stockhistory`.\n",
      "Dữ liệu đã được chèn thành công cho mã HDB vào bảng `stockhistory`.\n",
      "Dữ liệu đã được chèn thành công cho mã MBB vào bảng `stockhistory`.\n",
      "Dữ liệu đã được chèn thành công cho mã MSB vào bảng `stockhistory`.\n",
      "Dữ liệu đã được chèn thành công cho mã OCB vào bảng `stockhistory`.\n",
      "Dữ liệu đã được chèn thành công cho mã SHB vào bảng `stockhistory`.\n",
      "Dữ liệu đã được chèn thành công cho mã SSB vào bảng `stockhistory`.\n",
      "Dữ liệu đã được chèn thành công cho mã STB vào bảng `stockhistory`.\n",
      "Dữ liệu đã được chèn thành công cho mã TCB vào bảng `stockhistory`.\n",
      "Dữ liệu đã được chèn thành công cho mã TPB vào bảng `stockhistory`.\n",
      "Dữ liệu đã được chèn thành công cho mã VCB vào bảng `stockhistory`.\n",
      "Dữ liệu đã được chèn thành công cho mã VIB vào bảng `stockhistory`.\n",
      "Dữ liệu đã được chèn thành công cho mã VPB vào bảng `stockhistory`.\n",
      "Dữ liệu đã được chèn thành công cho mã NVB vào bảng `stockhistory`.\n",
      "Dữ liệu đã được chèn thành công cho mã BAB vào bảng `stockhistory`.\n"
     ]
    }
   ],
   "source": [
    "from datetime import datetime\n",
    "import ast  # Sử dụng ast.literal_eval để phân tích cú pháp an toàn hơn\n",
    "\n",
    "for symbol, dates in data.items():\n",
    "    # Bước 1: Lấy `stockid` của `symbol` từ bảng `stocklist`\n",
    "    cursor.execute(\"SELECT stockid FROM stocklist WHERE symbol = %s\", (symbol,))\n",
    "    result = cursor.fetchone()\n",
    "\n",
    "    if result:\n",
    "        stockid = result[0]\n",
    "        \n",
    "        # Danh sách các bản ghi cần chèn cho mã chứng khoán hiện tại\n",
    "        data_history_inserts = []\n",
    "        \n",
    "        # Bước 2: Chuẩn bị dữ liệu cho mỗi ngày\n",
    "        for date_str, stock_data in dates.items():\n",
    "            # Chuyển đổi ngày từ chuỗi thành định dạng datetime\n",
    "            date = datetime.strptime(date_str, \"%d/%m/%Y\")\n",
    "            \n",
    "            # Chuyển chuỗi dictionary thành dictionary thực tế\n",
    "            stock_data_dict = ast.literal_eval(stock_data)  # Sử dụng ast.literal_eval an toàn hơn eval\n",
    "            \n",
    "            # Lấy các giá trị từ dictionary và chuyển đổi chúng\n",
    "            open_price = float(stock_data_dict['open'].replace(',', ''))\n",
    "            high_price = float(stock_data_dict['high'].replace(',', ''))\n",
    "            low_price = float(stock_data_dict['low'].replace(',', ''))\n",
    "            close_price = float(stock_data_dict['close'].replace(',', ''))\n",
    "            volume = int(stock_data_dict['volume'].replace(',', ''))\n",
    "            \n",
    "            # Thêm vào danh sách dữ liệu chèn\n",
    "            data_history_inserts.append((stockid, date, open_price, high_price, low_price, close_price, volume))\n",
    "        \n",
    "        # Bước 3: Chèn dữ liệu vào stockhistory cho mã chứng khoán hiện tại\n",
    "        cursor.executemany(insert_stock_hist_query, data_history_inserts)\n",
    "        connection.commit()\n",
    "        print(f\"Dữ liệu đã được chèn thành công cho mã {symbol} vào bảng `stockhistory`.\")\n",
    "    else:\n",
    "        print(f\"Không tìm thấy `stockid` cho mã {symbol} trong bảng `stocklist`.\")\n",
    "\n",
    "# Đóng kết nối\n",
    "cursor.close()\n",
    "connection.close()"
   ]
  },
  {
   "cell_type": "code",
   "execution_count": 16,
   "metadata": {},
   "outputs": [],
   "source": [
    "# import numpy as np\n",
    "# try:\n",
    "#     conn = mysql.connector.connect(\n",
    "#         host=host,\n",
    "#         user=user,\n",
    "#         password=password,\n",
    "#         database=database\n",
    "#     )\n",
    "\n",
    "#     if conn.is_connected():\n",
    "#         print(\"Connected to MySQL\")\n",
    "#         cursor = conn.cursor()\n",
    "\n",
    "#         # insert_stocklist_query = \"INSERT INTO stocklist (stockid, symbol, company_name,previous_close_price) VALUES (%s, %s, %s,%s)\"\n",
    "#         # cursor.executemany(insert_stocklist_query, data_stock_list_inserts)\n",
    "#         # Câu truy vấn chèn dữ liệu\n",
    "#         insert_stock_hist_query = \"\"\"\n",
    "#         INSERT INTO stockhistory (stockid, date, open, high, low, close, volume) \n",
    "#         VALUES (%s, %s, %s, %s, %s, %s, %s)\n",
    "#         \"\"\"\n",
    "\n",
    "#         # Chuyển đổi các giá trị trong data_history_inserts nếu cần\n",
    "#         data_history_inserts = [\n",
    "#             tuple(map(lambda x: float(x) if isinstance(x, np.float64) else x, row))\n",
    "#             for row in data_history_inserts\n",
    "#         ]\n",
    "\n",
    "#         # Thực thi truy vấn\n",
    "#         cursor.executemany(insert_stock_hist_query, data_history_inserts)\n",
    "#         conn.commit()\n",
    "\n",
    "#         cursor.close()\n",
    "#         conn.close()\n",
    "#         print(\"Dữ liệu đã được chèn thành công vào MySQL.\")\n",
    "\n",
    "# except mysql.connector.Error as e:\n",
    "#     print(f\"Error: {e}\")\n",
    "# finally:\n",
    "#     if conn.is_connected():\n",
    "#         cursor.close()\n",
    "#         conn.close()\n",
    "#         print(\"MySQL connection closed\")"
   ]
  },
  {
   "cell_type": "code",
   "execution_count": null,
   "metadata": {},
   "outputs": [],
   "source": []
  },
  {
   "cell_type": "code",
   "execution_count": null,
   "metadata": {},
   "outputs": [],
   "source": []
  }
 ],
 "metadata": {
  "kernelspec": {
   "display_name": "Python 3",
   "language": "python",
   "name": "python3"
  },
  "language_info": {
   "codemirror_mode": {
    "name": "ipython",
    "version": 3
   },
   "file_extension": ".py",
   "mimetype": "text/x-python",
   "name": "python",
   "nbconvert_exporter": "python",
   "pygments_lexer": "ipython3",
   "version": "3.9.13"
  }
 },
 "nbformat": 4,
 "nbformat_minor": 2
}
